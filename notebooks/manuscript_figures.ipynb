{
 "cells": [
  {
   "cell_type": "code",
   "execution_count": 51,
   "metadata": {},
   "outputs": [],
   "source": [
    "import pandas as pd\n",
    "import numpy as np\n",
    "import matplotlib.pyplot as plt\n",
    "import matplotlib\n",
    "import seaborn as sns"
   ]
  },
  {
   "cell_type": "code",
   "execution_count": 52,
   "metadata": {},
   "outputs": [],
   "source": [
    "sns.set(style='white')"
   ]
  },
  {
   "cell_type": "markdown",
   "metadata": {},
   "source": [
    "## Performance vs. PeptideLocator figures"
   ]
  },
  {
   "cell_type": "code",
   "execution_count": 53,
   "metadata": {},
   "outputs": [],
   "source": [
    "df_metrics = pd.read_csv('../evaluation/crf_model_all_cv_esm2_l33_balancedsplit.csv', index_col=[0,1])\n",
    "means = df_metrics.groupby(level=0).mean()\n",
    "stds = df_metrics.groupby(level=0).std()"
   ]
  },
  {
   "cell_type": "code",
   "execution_count": 54,
   "metadata": {},
   "outputs": [
    {
     "data": {
      "text/html": [
       "<div>\n",
       "<style scoped>\n",
       "    .dataframe tbody tr th:only-of-type {\n",
       "        vertical-align: middle;\n",
       "    }\n",
       "\n",
       "    .dataframe tbody tr th {\n",
       "        vertical-align: top;\n",
       "    }\n",
       "\n",
       "    .dataframe thead th {\n",
       "        text-align: right;\n",
       "    }\n",
       "</style>\n",
       "<table border=\"1\" class=\"dataframe\">\n",
       "  <thead>\n",
       "    <tr style=\"text-align: right;\">\n",
       "      <th></th>\n",
       "      <th>precision peptides</th>\n",
       "      <th>recall peptides</th>\n",
       "      <th>f1 peptides</th>\n",
       "      <th>precision all</th>\n",
       "      <th>recall all</th>\n",
       "      <th>f1 all</th>\n",
       "    </tr>\n",
       "  </thead>\n",
       "  <tbody>\n",
       "    <tr>\n",
       "      <th>0</th>\n",
       "      <td>0.021304</td>\n",
       "      <td>0.094057</td>\n",
       "      <td>0.034740</td>\n",
       "      <td>0.023092</td>\n",
       "      <td>0.043263</td>\n",
       "      <td>0.030112</td>\n",
       "    </tr>\n",
       "    <tr>\n",
       "      <th>1</th>\n",
       "      <td>0.036350</td>\n",
       "      <td>0.159600</td>\n",
       "      <td>0.059213</td>\n",
       "      <td>0.041689</td>\n",
       "      <td>0.077811</td>\n",
       "      <td>0.054291</td>\n",
       "    </tr>\n",
       "    <tr>\n",
       "      <th>2</th>\n",
       "      <td>0.044235</td>\n",
       "      <td>0.193483</td>\n",
       "      <td>0.072007</td>\n",
       "      <td>0.052572</td>\n",
       "      <td>0.097754</td>\n",
       "      <td>0.068373</td>\n",
       "    </tr>\n",
       "    <tr>\n",
       "      <th>3</th>\n",
       "      <td>0.050910</td>\n",
       "      <td>0.221626</td>\n",
       "      <td>0.082800</td>\n",
       "      <td>0.062614</td>\n",
       "      <td>0.115892</td>\n",
       "      <td>0.081302</td>\n",
       "    </tr>\n",
       "  </tbody>\n",
       "</table>\n",
       "</div>"
      ],
      "text/plain": [
       "   precision peptides  recall peptides  f1 peptides  precision all  \\\n",
       "0            0.021304         0.094057     0.034740       0.023092   \n",
       "1            0.036350         0.159600     0.059213       0.041689   \n",
       "2            0.044235         0.193483     0.072007       0.052572   \n",
       "3            0.050910         0.221626     0.082800       0.062614   \n",
       "\n",
       "   recall all    f1 all  \n",
       "0    0.043263  0.030112  \n",
       "1    0.077811  0.054291  \n",
       "2    0.097754  0.068373  \n",
       "3    0.115892  0.081302  "
      ]
     },
     "execution_count": 54,
     "metadata": {},
     "output_type": "execute_result"
    }
   ],
   "source": [
    "df_peptidelocator = pd.read_csv('../evaluation/peptidelocator.csv', index_col=0)\n",
    "df_peptidelocator"
   ]
  },
  {
   "cell_type": "code",
   "execution_count": 56,
   "metadata": {},
   "outputs": [],
   "source": [
    "# prepare example peptide\n",
    "import pickle\n",
    "# test_probs, test_preds, test_labels, test_names= pickle.load(open('../hyperparam_runs_overlap_fixed/1/7/4/test_outputs.pickle', 'rb'))\n",
    "test_probs, test_preds, test_labels, test_names= pickle.load(open('../hyperparam_runs_esm2_650_balanced_33/1/7/3/test_outputs.pickle', 'rb'))\n",
    "test_probs = [x for sublist in test_probs for x in sublist] # remove batches, one list item per protein.\n",
    "\n",
    "df = pd.read_csv('../data/uniprot_12052022_cv_5_50/labeled_sequences.csv', index_col='protein_id')\n",
    "df_partitions = pd.read_csv('../data/uniprot_12052022_cv_5_50/graphpart_assignments.csv', index_col='AC')\n",
    "df = df.join(df_partitions)\n",
    "df_test = df.loc[df['cluster'] ==1]\n",
    "\n",
    "name = 'P01275'\n",
    "idx = np.where(np.array(test_names) == name)[0].item()\n",
    "\n",
    "protein = df.loc[name]['sequence']"
   ]
  },
  {
   "cell_type": "code",
   "execution_count": 57,
   "metadata": {},
   "outputs": [],
   "source": [
    "\n",
    "from typing import List, Tuple\n",
    "import matplotlib.patches as patches\n",
    "\n",
    "def simplify_probs(probs):\n",
    "    probs_simple = probs[:,:3].copy()\n",
    "    probs_simple[:,1] =  probs[:,1:51].sum(axis=1)\n",
    "    probs_simple[:,2] =  probs[:,51:].sum(axis=1)\n",
    "\n",
    "    return probs_simple\n",
    "\n",
    "def simplify_preds(preds):\n",
    "\n",
    "    def simplify_fn(x):\n",
    "        if x>0:\n",
    "            if x>50:\n",
    "                return 2\n",
    "            else:\n",
    "                return 1\n",
    "        else:\n",
    "            return 0 \n",
    "    preds_simple = [simplify_fn(x) for x in preds]\n",
    "    return preds_simple\n",
    "\n",
    "def parse_coordinate_string(string, deduplicate=True, sep=',') -> Tuple[List[int], List[int]]:\n",
    "    coords = [tuple(x.rstrip(')').lstrip('(').split('-')) for x in string.split(sep)]\n",
    "    if deduplicate:\n",
    "        coords = list(set(coords))\n",
    "    x, y = zip(*coords)\n",
    "    x = [int(p) for p in x]\n",
    "    y = [int(p) for p in y]\n",
    "\n",
    "    return x, y"
   ]
  },
  {
   "cell_type": "code",
   "execution_count": 58,
   "metadata": {},
   "outputs": [],
   "source": [
    "def plot_peptides(\n",
    "    protein_sequence: str, \n",
    "    peptide_starts: List[int], \n",
    "    peptide_ends: List[int], \n",
    "    protein_name: str = None,\n",
    "    thickness: int = 5,\n",
    "    spacing: int = 1,\n",
    "    peptide_color = 'grey',\n",
    "    backbone_color = 'darkblue',\n",
    "    names = None,\n",
    "    max_overlapping_peptides: int = 10,\n",
    "    figsize: Tuple[float, float] = (12,4.5),\n",
    "    is_uniprot_indexed: bool = True,\n",
    "    ax = None,\n",
    "    ):\n",
    "\n",
    "    if is_uniprot_indexed:\n",
    "        peptide_starts = [x-1 for x in peptide_starts]\n",
    "        peptide_ends = [x-1 for x in peptide_ends]\n",
    "\n",
    "    if len(peptide_starts) != len(peptide_ends):\n",
    "        raise ValueError(f'peptide_starts and peptide_ends need to have same length! Got {len(peptide_starts)} and {len(peptide_ends)}')\n",
    "\n",
    "    if names is None:\n",
    "        names = [''] * len(peptide_starts)\n",
    "\n",
    "    # long to short, then start to end.\n",
    "    sort_fn = lambda x: (-(x[1]-x[0]), x[0])\n",
    "\n",
    "    if type(peptide_color) == list:\n",
    "        peptide_starts, peptide_ends, peptide_color, names = zip(*sorted(zip(peptide_starts,peptide_ends, peptide_color, names), key = sort_fn))\n",
    "        peptide_color = list(peptide_color)\n",
    "    else:\n",
    "        peptide_starts, peptide_ends, names = zip(*sorted(zip(peptide_starts,peptide_ends, names), key = sort_fn))\n",
    "    length = len(protein_sequence)\n",
    "\n",
    "\n",
    "    peptides_plotted_at_position = np.zeros(length) # keep track how many peptides we already have at a position to compute y-offset.\n",
    "\n",
    "\n",
    "    # set up the coordinate system\n",
    "    min_x =  length - 10\n",
    "    max_x = length + 10\n",
    "    min_y = 0\n",
    "    max_y = thickness+spacing * max_overlapping_peptides\n",
    "\n",
    "    if ax is None:\n",
    "        fig, ax  = plt.subplots(1,1,figsize=figsize)\n",
    "\n",
    "    # plot the backbone.\n",
    "    p = patches.FancyBboxPatch((0,0), length, thickness, fill=True, color=backbone_color, aa=True, boxstyle='round')\n",
    "    ax.add_patch(p)\n",
    "    ax.text(0,thickness*0.5, protein_name, color='black',verticalalignment='center')\n",
    "\n",
    "    # plot the peptides.\n",
    "    have_warned = False\n",
    "    for idx, (start, end) in enumerate(zip(peptide_starts,peptide_ends)):\n",
    "\n",
    "        color = peptide_color[idx] if type(peptide_color) == list else peptide_color\n",
    "\n",
    "        if peptides_plotted_at_position[start:end+1].max() > max_overlapping_peptides:\n",
    "            if not have_warned:\n",
    "                print(f'Skipping {start}:{end}. Either increase max_overlapping_peptides or filter inputs.')\n",
    "                have_warned = True\n",
    "            continue\n",
    "        # compute the y axis offset.\n",
    "        y_offset = thickness + spacing  + peptides_plotted_at_position[start:end+1].max() * ( thickness + spacing)\n",
    "\n",
    "        p = patches.FancyBboxPatch((start,y_offset), end-start, thickness, fill=True, facecolor=color, linewidth=2, edgecolor='white', boxstyle='round')\n",
    "\n",
    "        #print(start, end, )\n",
    "        ax.add_patch(p)\n",
    "        ax.text(start,y_offset + thickness *0.5, names[idx], color='white', weight = 'bold',verticalalignment='center')\n",
    "\n",
    "        # update the counts\n",
    "        peptides_plotted_at_position[start:end+1] +=1\n",
    "        \n",
    "\n",
    "\n",
    "    ax.set_xlim(-5, length+5)\n",
    "    ax.set_ylim(-1, (peptides_plotted_at_position.max() + 2) * (thickness + spacing))\n",
    "\n",
    "    ax.set_yticks([])\n",
    "    ax.invert_yaxis()\n",
    "\n",
    "    return ax"
   ]
  },
  {
   "cell_type": "code",
   "execution_count": 60,
   "metadata": {},
   "outputs": [],
   "source": [
    "cmap = matplotlib.colors.ListedColormap(['#CCC5BD', '#001965', '#2A918B'], name='from_list', N=None)\n",
    "cmap = matplotlib.colors.ListedColormap(['#DFDBDB',  '#048BA8', '#E8AE68', '#808080'], name='from_list', N=None)\n",
    "\n",
    "legend_size = 14\n",
    "\n",
    "\n",
    "fig = plt.figure(figsize=(17.5,8))\n",
    "axs = matplotlib.gridspec.GridSpec(\n",
    "                nrows=22,\n",
    "                ncols=2,\n",
    "                width_ratios=[0.6,2],\n",
    "                height_ratios=None,#[2,2,0.5,0.5 ,2,2,2,1],\n",
    "                wspace=0.3,\n",
    "                hspace=0,\n",
    "                #height_ratios=[3,0.5,1],\n",
    "            )\n",
    "\n",
    "ax = fig.add_subplot(axs[0:10,0])\n",
    "\n",
    "width = 0.35\n",
    "xpos = np.array([0,1,2,3] )\n",
    "bars1 = ax.bar(xpos- width/2,means['precision all'], width, label='DeepPeptide', color=cmap.colors[1])\n",
    "bars2 = ax.bar(xpos + width/2,df_peptidelocator['precision peptides'], width, label='PeptideLocator', color=cmap.colors[3])\n",
    "ax.errorbar(xpos- width/2,means['precision all'], yerr=stds['precision all'], fmt='none', barsabove=True, ecolor='black', capsize=3)\n",
    "ax.tick_params(axis='y', labelsize=legend_size)\n",
    "\n",
    "ax.set_ylabel('Precision', fontsize=legend_size)\n",
    "ax.set_xticks([0,1,2,3], ['±0', '±1', '±2', '±3'], fontsize=legend_size)\n",
    "ax.legend(loc='upper left', fontsize=legend_size-1)\n",
    "#ax.set_xticklabels('')\n",
    "sns.despine(ax=ax)\n",
    "\n",
    "ax.text(-0.3, 0.95, 'a', transform=ax.transAxes, \n",
    "            size=20, weight='bold')\n",
    "\n",
    "ax = fig.add_subplot(axs[12:,0], sharey=ax)\n",
    "bars1 = ax.bar(xpos- width/2,means['recall all'], width, label='DeepPeptide', color=cmap.colors[1])\n",
    "bars2 = ax.bar(xpos + width/2,df_peptidelocator['recall peptides'], width, label='PeptideLocator', color=cmap.colors[3])\n",
    "ax.errorbar(xpos- width/2,means['recall all'], yerr=stds['recall all'], fmt='none', barsabove=True, ecolor='black', capsize=3)\n",
    "ax.tick_params(axis='y', labelsize=legend_size)\n",
    "ax.set_ylabel('Recall', fontsize=legend_size)\n",
    "sns.despine(ax=ax)\n",
    "\n",
    "ax.set_xticks([0,1,2,3], ['±0', '±1', '±2', '±3'], fontsize=legend_size)\n",
    "ax.set_ylim(0,1)\n",
    "# ax.legend(loc='upper left', fontsize=legend_)\n",
    "ax.set_xlabel('Tolerance window around\\ntrue start/end position [Amino acids]', fontsize=legend_size)\n",
    "\n",
    "ax.text(-0.3, 0.95, 'b', transform=ax.transAxes, \n",
    "            size=20, weight='bold')\n",
    "\n",
    "\n",
    "\n",
    "\n",
    "### Peptides\n",
    "ax = fig.add_subplot(axs[0:5,1])\n",
    "x, y =  parse_coordinate_string(df_test.loc[name]['coordinates'])\n",
    "x_pro, y_pro =  parse_coordinate_string(df_test.loc[name]['propeptide_coordinates'])\n",
    "colors = [cmap.colors[1]] * len(x) + [cmap.colors[2]] * len(x_pro)\n",
    "x, y = x+x_pro, y+y_pro\n",
    "\n",
    "# order of this not fixed when not sorted.\n",
    "x, y, colors = zip(*sorted(zip(x,y, colors)))\n",
    "colors = list(colors) # my API wants list.\n",
    "\n",
    "names = ['GRPP', 'Glucagon', 'Oxyntomodulin', '', 'GLP-1', 'GLP-1', 'GLP-1', '', 'GLP-2']\n",
    "plot_peptides(protein, x, y, 'Preproglucagon', peptide_color=colors, backbone_color=cmap.colors[0], names=names, max_overlapping_peptides=40, ax=ax)\n",
    "sns.despine(ax=ax,left=True, bottom=True, )\n",
    "#ax.get_xaxis().set_visible(False)\n",
    "#ax.set_xlabel('Sequence position')\n",
    "#ax.xaxis.grid()\n",
    "ax.tick_params(axis='x', bottom=False, labelbottom=False)\n",
    "\n",
    "ax.set_ylabel('True peptides\\n(UniProt)',labelpad=15, fontsize=legend_size)\n",
    "\n",
    "ax.text(-0.12, 0.95, 'c', transform=ax.transAxes, \n",
    "            size=20, weight='bold')\n",
    "\n",
    "# make peptide plot a bit larger\n",
    "# print(ax.get_ylim()) # (30.0, -1.0)\n",
    "ax.set_ylim(23.5,-1)\n",
    "\n",
    "def make_gridlines(x,y,ax):\n",
    "    for x_i in x:\n",
    "        ax.axvline(x_i-1, c='lightgrey', zorder=-100, linewidth=1)\n",
    "    for y_i in y:\n",
    "        ax.axvline(y_i-1, c='lightgrey', zorder=-100, linewidth=1)\n",
    "make_gridlines(x,y, ax)\n",
    "\n",
    "### Line plots\n",
    "\n",
    "ax = fig.add_subplot(axs[5:11,1], sharex=ax)\n",
    "#cmap = plt.get_cmap('tab10')\n",
    "#cmap = matplotlib.colors.ListedColormap(['#CCC5BD', '#001965', '#2A918B'], name='from_list', N=None)\n",
    "#cmap.colors[0] = '#001965'\n",
    "\n",
    "protein  = df_test.loc[name]['sequence']\n",
    "probs = simplify_probs(test_probs[idx])#np_sigmoid(test_logits[idx][:len(protein)])\n",
    "#ax.plot(probs[:,0][:len(protein)], fillstyle='full', label='None', linestyle='--', linewidth=0.5, c=cmap.colors[0])\n",
    "ax.plot(probs[:,1][:len(protein)], fillstyle='full', label='Peptide', c=cmap.colors[1])\n",
    "ax.plot(probs[:,2][:len(protein)], fillstyle='full', label='Propeptide', c=cmap.colors[2])\n",
    "\n",
    "ax.set_ylim(-0.01,1.05)\n",
    "ax.axhline(0.5, linestyle='--', c='red', xmin=0, xmax=1, linewidth=1)\n",
    "ax.legend(loc='upper left', fontsize=legend_size)\n",
    "ax.set_ylabel('Probability', fontsize=legend_size)\n",
    "ax.tick_params(axis='y', labelsize=legend_size)\n",
    "sns.despine(ax=ax, bottom=False)\n",
    "ax.yaxis.grid(False)\n",
    "#ax.get_xaxis().set_visible(False)\n",
    "#ax.xaxis.grid()\n",
    "make_gridlines(x,y, ax)\n",
    "#ax.set_xticklabels('')\n",
    "ax.tick_params(axis='x', bottom=False, labelbottom=False)\n",
    "\n",
    "ax.text(-0.12, 0.9, 'd', transform=ax.transAxes, \n",
    "            size=20, weight='bold')\n",
    "\n",
    "\n",
    "\n",
    "ax = fig.add_subplot(axs[12,1], sharex=ax)\n",
    "\n",
    "norm = matplotlib.colors.BoundaryNorm([0,1,2],2)\n",
    "ax.imshow(np.array(simplify_preds(test_preds[idx][:len(protein)]))[None,:].repeat(5,axis=0), cmap=cmap, norm=norm, zorder=100)\n",
    "ax.grid(False)\n",
    "ax.set_xlabel('')\n",
    "ax.tick_params(axis='y', left=False, labelleft=False)\n",
    "#ax.get_xaxis().set_visible(False)\n",
    "ax.xaxis.grid(zorder=-100)\n",
    "# ax.tick_params(axis='x', bottom=False)\n",
    "sns.despine(ax=ax,left=True, bottom=True)\n",
    "ax.tick_params(axis='x', bottom=False, labelbottom=False)\n",
    "ax.set_ylabel('Prediction', rotation='horizontal', ha='right', va='center',labelpad=-12, fontsize=legend_size)\n",
    "\n",
    "\n",
    "# Fill in gridlines in gaps around imshow\n",
    "ax = fig.add_subplot(axs[11,1], sharex=ax)\n",
    "make_gridlines(x,y, ax)\n",
    "sns.despine(ax=ax,left=True, bottom=True, top=False)\n",
    "ax.set_xlabel('')\n",
    "ax.set_ylabel('')\n",
    "ax.tick_params(axis='x', bottom=False, labelbottom=False, top=False, labeltop=False)\n",
    "ax.tick_params(axis='y', left=False, labelleft=False)\n",
    "ax = fig.add_subplot(axs[13:14,1], sharex=ax)\n",
    "make_gridlines(x,y, ax)\n",
    "sns.despine(ax=ax,left=True, bottom=True)\n",
    "ax.set_xlabel('')\n",
    "ax.set_ylabel('')\n",
    "ax.tick_params(axis='x', bottom=False, labelbottom=False)\n",
    "ax.tick_params(axis='y', left=False, labelleft=False, labelsize=legend_size)\n",
    "\n",
    "ax = fig.add_subplot(axs[14:20,1], sharex=ax)\n",
    "peptidelocator = open('../results/peptide_locator/any/P01275.fasta.PeptideLocator', 'r').read()\n",
    "peptidelocator = np.array([float(x) for x in peptidelocator.split(' ')])\n",
    "ax.plot(peptidelocator, fillstyle='full', label='PeptideLocator', c=cmap.colors[3])\n",
    "ax.axhline(0.5, linestyle='--', c='red', xmin=0, xmax=1, linewidth=1)\n",
    "ax.set_ylim(-0.01,1.05)\n",
    "ax.tick_params(axis='y', labelsize=legend_size)\n",
    "ax.legend(loc='upper left', fontsize=legend_size)\n",
    "ax.set_ylabel('Probability', fontsize=legend_size)\n",
    "#ax.xaxis.grid()\n",
    "\n",
    "ax.text(-0.12, 1, 'e', transform=ax.transAxes, \n",
    "            size=20, weight='bold')\n",
    "\n",
    "make_gridlines(x,y, ax)\n",
    "sns.despine(ax=ax)\n",
    "\n",
    "ax.tick_params(axis='x', bottom=False, labelbottom=False)\n",
    "\n",
    "ax = fig.add_subplot(axs[20,1], sharex=ax)\n",
    "make_gridlines(x,y, ax)\n",
    "sns.despine(ax=ax,left=True, bottom=True, top=False)\n",
    "ax.set_xlabel('')\n",
    "ax.set_ylabel('')\n",
    "ax.tick_params(axis='x', bottom=False, labelbottom=False, top=False, labeltop=False)\n",
    "ax.tick_params(axis='y', left=False, labelleft=False, labelsize=legend_size)\n",
    "\n",
    "ax = fig.add_subplot(axs[21:,1], sharex=ax)\n",
    "\n",
    "norm = matplotlib.colors.BoundaryNorm([0,0.1,0.2],3) # hacky norm to map 1 to color 3\n",
    "ax.imshow(1*(peptidelocator>0.5)[None,:].repeat(5,axis=0), cmap=cmap, norm=norm, zorder=100)\n",
    "ax.grid(False)\n",
    "ax.set_xlabel('')\n",
    "ax.tick_params(axis='y', left=False, labelleft=False)\n",
    "#ax.get_xaxis().set_visible(False)\n",
    "ax.xaxis.grid(zorder=-100)\n",
    "# ax.tick_params(axis='x', bottom=False)\n",
    "sns.despine(ax=ax,left=True, bottom=False)\n",
    "# ax.tick_params(axis='x', bottom=False, labelbottom=False)\n",
    "ax.set_ylabel('Prediction', rotation='horizontal', ha='right', va='center',labelpad=-12, fontsize=legend_size)\n",
    "\n",
    "ax.set_xlabel('Sequence position', fontsize=legend_size)\n",
    "ax.tick_params(axis='x', labelsize=legend_size)\n",
    "ax.tick_params(axis='y', labelsize=legend_size)\n",
    "make_gridlines(x,y, ax)\n",
    "\n",
    "plt.savefig('../figures/figure_2.png', dpi=1200,bbox_inches='tight')\n",
    "plt.savefig('../figures/figure_2.svg',bbox_inches='tight')"
   ]
  },
  {
   "cell_type": "markdown",
   "metadata": {},
   "source": [
    "## Detailed performance for all windows"
   ]
  },
  {
   "cell_type": "code",
   "execution_count": 35,
   "metadata": {},
   "outputs": [
    {
     "data": {
      "image/png": "[encoded data removed]",
      "text/plain": [
       "<Figure size 648x216 with 2 Axes>"
      ]
     },
     "metadata": {},
     "output_type": "display_data"
    }
   ],
   "source": [
    "fig, axs = plt.subplots(1,2, figsize=(9,3))\n",
    "ax = axs[0]\n",
    "width = 0.35\n",
    "xpos = np.array([0,1,2,3] )\n",
    "bars1 = ax.bar(xpos- width/2,means['precision peptides'], width, label='Peptides', color=cmap.colors[1])\n",
    "bars2 = ax.bar(xpos + width/2,means['precision propeptides'], width, label='Propeptides', color=cmap.colors[2])\n",
    "ax.errorbar(xpos- width/2,means['precision peptides'], yerr=stds['precision peptides'], fmt='none', barsabove=True, ecolor='black', capsize=3)\n",
    "ax.errorbar(xpos+ width/2,means['precision propeptides'], yerr=stds['precision propeptides'], fmt='none', barsabove=True, ecolor='black', capsize=3)\n",
    "\n",
    "ax.set_ylabel('Precision')\n",
    "ax.set_xticks([0,1,2,3], ['±0', '±1', '±2', '±3'])\n",
    "ax.legend(loc='upper left')\n",
    "ax.set_xlabel('Tolerance window around\\ntrue start/end position [Amino acids]')\n",
    "ax.set_ylim(0,1)\n",
    "sns.despine(ax=ax)\n",
    "\n",
    "ax = axs[1]\n",
    "bars1 = ax.bar(xpos- width/2,means['recall peptides'], width, label='Peptides', color=cmap.colors[1])\n",
    "bars2 = ax.bar(xpos + width/2,means['recall propeptides'], width, label='Propeptides', color=cmap.colors[2])\n",
    "ax.errorbar(xpos- width/2,means['recall peptides'], yerr=stds['recall peptides'], fmt='none', barsabove=True, ecolor='black', capsize=3)\n",
    "ax.errorbar(xpos+ width/2,means['recall propeptides'], yerr=stds['recall propeptides'], fmt='none', barsabove=True, ecolor='black', capsize=3)\n",
    "\n",
    "ax.set_ylabel('Recall')\n",
    "ax.set_xlabel('Tolerance window around\\ntrue start/end position [Amino acids]')\n",
    "ax.set_xticks([0,1,2,3], ['±0', '±1', '±2', '±3'])\n",
    "ax.legend(loc='upper left')\n",
    "ax.set_ylim(0,1)\n",
    "sns.despine(ax=ax)\n",
    "\n",
    "\n",
    "plt.savefig('../figures/performance_peptide_propeptide.png', dpi=1200,bbox_inches='tight')\n",
    "plt.savefig('../figures/performance_peptide_propeptide.svg',bbox_inches='tight')\n",
    "\n"
   ]
  },
  {
   "cell_type": "code",
   "execution_count": 36,
   "metadata": {},
   "outputs": [
    {
     "data": {
      "text/plain": [
       "Ttest_relResult(statistic=4.613703076117549, pvalue=0.00018949525946378805)"
      ]
     },
     "execution_count": 36,
     "metadata": {},
     "output_type": "execute_result"
    }
   ],
   "source": [
    "from scipy.stats import ttest_rel\n",
    "\n",
    "x = df_metrics.loc[0]['precision peptides']\n",
    "y = df_metrics.loc[0]['precision propeptides']\n",
    "\n",
    "ttest_rel(x,y)"
   ]
  },
  {
   "cell_type": "code",
   "execution_count": 37,
   "metadata": {},
   "outputs": [
    {
     "data": {
      "text/plain": [
       "Ttest_relResult(statistic=3.63820619038351, pvalue=0.001749496270015335)"
      ]
     },
     "execution_count": 37,
     "metadata": {},
     "output_type": "execute_result"
    }
   ],
   "source": [
    "x = df_metrics.loc[1]['precision peptides']\n",
    "y = df_metrics.loc[1]['precision propeptides']\n",
    "\n",
    "ttest_rel(x,y)"
   ]
  },
  {
   "cell_type": "code",
   "execution_count": 38,
   "metadata": {},
   "outputs": [
    {
     "data": {
      "text/plain": [
       "Ttest_relResult(statistic=4.609264592994729, pvalue=0.00019140792595164307)"
      ]
     },
     "execution_count": 38,
     "metadata": {},
     "output_type": "execute_result"
    }
   ],
   "source": [
    "x = df_metrics.loc[0]['recall peptides']\n",
    "y = df_metrics.loc[0]['recall propeptides']\n",
    "\n",
    "ttest_rel(x,y)"
   ]
  },
  {
   "cell_type": "code",
   "execution_count": 39,
   "metadata": {},
   "outputs": [
    {
     "data": {
      "text/plain": [
       "Ttest_relResult(statistic=4.269419248143755, pvalue=0.0004142633738183302)"
      ]
     },
     "execution_count": 39,
     "metadata": {},
     "output_type": "execute_result"
    }
   ],
   "source": [
    "x = df_metrics.loc[1]['recall peptides']\n",
    "y = df_metrics.loc[1]['recall propeptides']\n",
    "\n",
    "ttest_rel(x,y)"
   ]
  },
  {
   "cell_type": "markdown",
   "metadata": {},
   "source": [
    "## ESM2-650m vs ESM1b"
   ]
  },
  {
   "cell_type": "code",
   "execution_count": 45,
   "metadata": {},
   "outputs": [],
   "source": [
    "df_metrics = pd.read_csv('../evaluation/lm_selection/crf_model_all_cv_balancedsplit.csv')\n",
    "\n",
    "df_metrics['model'] = df_metrics['model'].str.split('/', expand=True)[1]\n",
    "df_metrics = df_metrics.set_index(['tolerance', 'model'])\n",
    "\n",
    "means = df_metrics.groupby(level=[0,1]).mean()\n",
    "stds = df_metrics.groupby(level=[0,1]).std()\n",
    "\n",
    "means = means.reorder_levels([1,0])\n",
    "stds = stds.reorder_levels([1,0])"
   ]
  },
  {
   "cell_type": "code",
   "execution_count": 50,
   "metadata": {},
   "outputs": [
    {
     "data": {
      "image/png": "[encoded data removed]",
      "text/plain": [
       "<Figure size 864x288 with 2 Axes>"
      ]
     },
     "metadata": {},
     "output_type": "display_data"
    }
   ],
   "source": [
    "df_plot = df_metrics.reset_index()\n",
    "df_plot['model'] = df_plot['model'].replace({\n",
    "    'hyperparam_runs_esm1b_balanced': 'ESM1b (layer 32)', \n",
    "    'hyperparam_runs_esm1b_balanced_33': 'ESM1b (layer 33)',\n",
    "    'hyperparam_runs_esm2_650_balanced_32': 'ESM2-650m (layer 32)',\n",
    "    'hyperparam_runs_esm2_650_balanced_33': 'ESM2-650m (layer 33)',\n",
    "    'hyperparam_runs_onehot': 'One-hot'\n",
    "    })\n",
    "\n",
    "# colors = ['#048BA8', '#E8AE68',  '#D1495B', '#13315C', '#DFDBDB',  '#808080']\n",
    "colors = ['#048BA8', '#82c5d4', '#E8AE68',  '#f1cea4', '#808080']\n",
    "\n",
    "fig, axs = plt.subplots(1,2, figsize=(12,4), sharey=False)\n",
    "\n",
    "ax = axs[0]\n",
    "\n",
    "sns.barplot(data=df_plot, y='precision all', x='tolerance', hue='model', ax=ax, palette=colors, capsize=0.05, errwidth=2)\n",
    "\n",
    "ax.set_ylabel('Precision')\n",
    "ax.set_xticks([0,1,2,3], ['±0', '±1', '±2', '±3'])\n",
    "ax.set_xlabel('Tolerance window around\\ntrue start/end position [Amino acids]')\n",
    "\n",
    "ax.legend([],[], frameon=False)\n",
    "ax.set_ylim(0,1)\n",
    "\n",
    "ax = axs[1]\n",
    "sns.barplot(data=df_plot, y='recall all', x='tolerance', hue='model', ax=ax, palette=colors, capsize=0.05, errwidth=2)\n",
    "\n",
    "ax.set_ylabel('Recall')\n",
    "ax.set_xticks([0,1,2,3], ['±0', '±1', '±2', '±3'])\n",
    "ax.set_xlabel('Tolerance window around\\ntrue start/end position [Amino acids]')\n",
    "ax.set_ylim(0,1)\n",
    "\n",
    "plt.savefig('../figures/performance_esm1b_esm2.png', dpi=1200,bbox_inches='tight')\n",
    "plt.savefig('../figures/performance_esm1b_esm2.svg',bbox_inches='tight')"
   ]
  },
  {
   "cell_type": "markdown",
   "metadata": {},
   "source": [
    "## Confusion matrix"
   ]
  },
  {
   "cell_type": "code",
   "execution_count": 42,
   "metadata": {},
   "outputs": [],
   "source": [
    "# df = pd.read_csv('../evaluation/peptide_predictions_esm1b_balancedsplit.csv', index_col=[0,1,2,3])\n",
    "df = pd.read_csv('../evaluation/peptide_predictions_esm2_l33_balancedsplit.csv', index_col=[0,1,2,3])\n",
    "confusion_matrix = pd.crosstab(df['true'], df['pred'])"
   ]
  },
  {
   "cell_type": "code",
   "execution_count": 43,
   "metadata": {},
   "outputs": [
    {
     "data": {
      "image/png": "[encoded data removed]",
      "text/plain": [
       "<Figure size 360x288 with 1 Axes>"
      ]
     },
     "metadata": {},
     "output_type": "display_data"
    }
   ],
   "source": [
    "confusion = confusion_matrix.values\n",
    "categories = confusion_matrix.index.tolist()\n",
    "confusion_norm = confusion / confusion.sum(axis=1)[:, None]\n",
    "\n",
    "\n",
    "group_counts = [\"{0:0.0f}\".format(value) for value in confusion.flatten()]\n",
    "group_percentages = [\n",
    "    \"{0:.1%}\".format(value) for value in confusion_norm.flatten()\n",
    "]\n",
    "\n",
    "# supress None-None. Cannot exist in this model.\n",
    "group_percentages[0] = ''\n",
    "group_counts[0] = ''\n",
    "\n",
    "labels = [f\"{v1}\\n{v2}\" for v1, v2 in zip(group_counts, group_percentages)]\n",
    "labels = np.asarray(labels).reshape(len(categories), len(categories))\n",
    "\n",
    "\n",
    "\n",
    "fig, ax = plt.subplots(1,1, figsize=(5,4))\n",
    "b = sns.heatmap(\n",
    "    confusion_norm,\n",
    "    cmap=\"Blues\",\n",
    "    annot=labels,\n",
    "    xticklabels=categories,\n",
    "    yticklabels=categories,\n",
    "    fmt=\"\",\n",
    "    cbar=False,\n",
    "    annot_kws={\"size\": 12},\n",
    "    linewidths=1,\n",
    "    linecolor='black',\n",
    "    ax=ax,\n",
    "    clip_on=False,\n",
    ")\n",
    "\n",
    "ax.set_ylabel(\"True label\", size=12)\n",
    "ax.set_xlabel(\"Predicted label\", size=12)\n",
    "\n",
    "ax.set_yticklabels(\n",
    "    ax.get_yticklabels(), rotation=0, horizontalalignment=\"right\", fontsize=12\n",
    ")\n",
    "\n",
    "ax.set_xticklabels(\n",
    "    ax.get_xticklabels(), rotation=0, horizontalalignment=\"right\", fontsize=12\n",
    ")\n",
    "\n",
    "fig.show()\n",
    "fig.tight_layout()\n",
    "\n",
    "plt.savefig('../figures/confusion_matrix.png', dpi=1200,bbox_inches='tight')\n",
    "plt.savefig('../figures/confusion_matrix.svg',bbox_inches='tight')"
   ]
  },
  {
   "cell_type": "markdown",
   "metadata": {},
   "source": [
    "## PeptideLocator threshold effect"
   ]
  },
  {
   "cell_type": "code",
   "execution_count": 116,
   "metadata": {},
   "outputs": [],
   "source": [
    "df = pd.read_csv('../evaluation/peptidelocator_thresholds.csv', index_col=[0,1])"
   ]
  },
  {
   "cell_type": "code",
   "execution_count": 117,
   "metadata": {},
   "outputs": [],
   "source": [
    "df = df.loc[df.index.get_level_values(1)>0]\n",
    "df = df.loc[df.index.get_level_values(1)<1]"
   ]
  },
  {
   "cell_type": "code",
   "execution_count": 122,
   "metadata": {},
   "outputs": [
    {
     "data": {
      "image/png": "[encoded data removed]",
      "text/plain": [
       "<Figure size 864x288 with 2 Axes>"
      ]
     },
     "metadata": {},
     "output_type": "display_data"
    }
   ],
   "source": [
    "cmap = matplotlib.colors.ListedColormap(['#DFDBDB',  '#048BA8', '#E8AE68', '#95190C', '#353B3C'], name='from_list', N=None)\n",
    "\n",
    "\n",
    "fig, axs = plt.subplots(1,2, figsize=(12,4))\n",
    "ax = axs[0]\n",
    "ax.plot(df.loc[0]['precision all'], label ='±0', color=cmap.colors[1])\n",
    "ax.plot(df.loc[1]['precision all'], label ='±1', color=cmap.colors[2])\n",
    "ax.plot(df.loc[2]['precision all'], label ='±2', color=cmap.colors[3])\n",
    "ax.plot(df.loc[3]['precision all'], label ='±3', color=cmap.colors[4])\n",
    "ax.legend(title='Tolerance')\n",
    "ax.set_ylabel('Precision')\n",
    "ax.set_xlabel('Threshold')\n",
    "ax.axvline(0.5, linestyle='--', color='black')\n",
    "\n",
    "ax.fill_between(df.loc[0]['precision all'].index, df.loc[0]['precision all'], color=cmap.colors[1], alpha=0.5)\n",
    "ax.fill_between(df.loc[0]['precision all'].index, df.loc[1]['precision all'], df.loc[0]['precision all'], color=cmap.colors[2], alpha=0.5)\n",
    "ax.fill_between(df.loc[0]['precision all'].index, df.loc[2]['precision all'], df.loc[1]['precision all'], color=cmap.colors[3], alpha=0.5)\n",
    "ax.fill_between(df.loc[0]['precision all'].index, df.loc[3]['precision all'], df.loc[2]['precision all'], color=cmap.colors[4], alpha=0.5)\n",
    "\n",
    "\n",
    "ax = axs[1]\n",
    "ax.plot(df.loc[0]['recall all'], label = '±0', color=cmap.colors[1])\n",
    "ax.plot(df.loc[1]['recall all'], label = '±1', color=cmap.colors[2])\n",
    "ax.plot(df.loc[2]['recall all'], label = '±2', color=cmap.colors[3])\n",
    "ax.plot(df.loc[3]['recall all'], label = '±3', color=cmap.colors[4])\n",
    "ax.legend(title='Tolerance', loc='upper left')\n",
    "ax.set_ylabel('Recall')\n",
    "ax.set_xlabel('Threshold')\n",
    "ax.axvline(0.5, linestyle='--', color='black')\n",
    "\n",
    "ax.fill_between(df.loc[0]['recall all'].index, df.loc[0]['recall all'], color=cmap.colors[1], alpha=0.5)\n",
    "ax.fill_between(df.loc[0]['recall all'].index, df.loc[1]['recall all'], df.loc[0]['recall all'], color=cmap.colors[2], alpha=0.5)\n",
    "ax.fill_between(df.loc[0]['recall all'].index, df.loc[2]['recall all'], df.loc[1]['recall all'], color=cmap.colors[3], alpha=0.5)\n",
    "ax.fill_between(df.loc[0]['recall all'].index, df.loc[3]['recall all'], df.loc[2]['recall all'], color=cmap.colors[4], alpha=0.5)\n",
    "\n",
    "# fig.suptitle('Effect of PeptideLocator prediction threshold')\n",
    "\n",
    "plt.savefig('../figures/peptidelocator_threshold.png', dpi=1200,bbox_inches='tight')\n",
    "plt.savefig('../figures/peptidelocator_threshold.svg' ,bbox_inches='tight')"
   ]
  }
 ],
 "metadata": {
  "interpreter": {
   "hash": "b31add7f5fa312394e5d4ed1d58704f11103aeaad232fc31a0da9dc5d7547f07"
  },
  "kernelspec": {
   "display_name": "Python 3.9.12 ('pepenv')",
   "language": "python",
   "name": "python3"
  },
  "language_info": {
   "codemirror_mode": {
    "name": "ipython",
    "version": 3
   },
   "file_extension": ".py",
   "mimetype": "text/x-python",
   "name": "python",
   "nbconvert_exporter": "python",
   "pygments_lexer": "ipython3",
   "version": "3.9.12"
  },
  "orig_nbformat": 4
 },
 "nbformat": 4,
 "nbformat_minor": 2
}
